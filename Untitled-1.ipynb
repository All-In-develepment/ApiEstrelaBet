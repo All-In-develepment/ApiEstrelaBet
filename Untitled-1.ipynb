{
 "cells": [
  {
   "cell_type": "code",
   "execution_count": 16,
   "metadata": {},
   "outputs": [],
   "source": [
    "from selenium import webdriver\n",
    "from selenium.webdriver.common.by import By\n",
    "from selenium.webdriver.edge.service import Service\n",
    "from webdriver_manager.microsoft import EdgeChromiumDriverManager\n",
    "from selenium.webdriver.common.action_chains import ActionChains\n",
    "import time"
   ]
  },
  {
   "cell_type": "code",
   "execution_count": 10,
   "metadata": {},
   "outputs": [],
   "source": [
    "# Configurar o WebDriver do Edge\n",
    "service = Service(EdgeChromiumDriverManager().install())"
   ]
  },
  {
   "cell_type": "code",
   "execution_count": 11,
   "metadata": {},
   "outputs": [],
   "source": [
    "driver = webdriver.Edge(service=service)\n",
    "driver.execute_cdp_cmd('Page.addScriptToEvaluateOnNewDocument', {'source': \"\"\"\n",
    "Element.prototype._attachShadow = Element.prototype.attachShadow;\n",
    "Element.prototype.attachShadow = function () {\n",
    "    return this._attachShadow( { mode: \"open\" } );\n",
    "};\n",
    "\"\"\"})\n",
    "driver.get('https://estrelabet.com/pb#/virtual')"
   ]
  },
  {
   "cell_type": "code",
   "execution_count": 12,
   "metadata": {},
   "outputs": [],
   "source": [
    "# Localizar o host do Shadow DOM\n",
    "shadow_host = driver.find_element(By.CSS_SELECTOR, '#container > div')\n",
    "shadow_root = driver.execute_script('return arguments[0].shadowRoot', shadow_host)"
   ]
  },
  {
   "cell_type": "code",
   "execution_count": 13,
   "metadata": {},
   "outputs": [],
   "source": [
    "# shadow_host2 = shadow_root.find_element(By.CSS_SELECTOR, 'div:nth-child(1) > div.SportsBookRouterstyled__RoutesWrapper-sc-iwc66s-0 > main > div > div > div.Kironstyled__VirtualTableTennisContainer-sc-jvy8h9-1 > div.Kironstyled__VirtualEventListWrapper-sc-jvy8h9-7 > div > div:nth-child(4) > div:nth-child(2)')\n",
    "shadow_host2 = shadow_root.find_element(By.CSS_SELECTOR, 'div:nth-child(1) > div.SportsBookRouterstyled__RoutesWrapper-sc-iwc66s-0 > main > div > div > div.Kironstyled__VirtualTableTennisContainer-sc-jvy8h9-1 > div.Kironstyled__VirtualEventListWrapper-sc-jvy8h9-7 > div')\n",
    "# shadow_host3 = shadow_root.find_element(By.CLASS_NAME, 'EventDetailsMarketsstyled__EventDetailsMarketsContainer-sc-qy9han-0')"
   ]
  },
  {
   "cell_type": "code",
   "execution_count": 14,
   "metadata": {},
   "outputs": [],
   "source": [
    "child_elements = shadow_host2.find_elements(By.CLASS_NAME, 'Kironstyled__EventDataContainer-sc-jvy8h9-5')"
   ]
  },
  {
   "cell_type": "code",
   "execution_count": 15,
   "metadata": {},
   "outputs": [
    {
     "ename": "ElementClickInterceptedException",
     "evalue": "Message: element click intercepted: Element <div class=\"Kironstyled__EventData-sc-jvy8h9-3 eiCTSg\">...</div> is not clickable at point (845, 498). Other element would receive the click: <span class=\"sticky-footer-item--name\">...</span>\n  (Session info: MicrosoftEdge=127.0.2651.86)\nStacktrace:\n\tGetHandleVerifier [0x00007FF6299B05C2+11762]\n\tMicrosoft::Applications::Events::ILogConfiguration::operator* [0x00007FF629950909+271433]\n\t(No symbol) [0x00007FF62976FE6E]\n\t(No symbol) [0x00007FF6297BCD43]\n\t(No symbol) [0x00007FF6297BAFF4]\n\t(No symbol) [0x00007FF6297B8D60]\n\t(No symbol) [0x00007FF6297B7DA1]\n\t(No symbol) [0x00007FF6297ACA4C]\n\t(No symbol) [0x00007FF6297D5F3A]\n\t(No symbol) [0x00007FF6297AC2FD]\n\t(No symbol) [0x00007FF6297AC1CD]\n\t(No symbol) [0x00007FF6297D6220]\n\t(No symbol) [0x00007FF6297AC2FD]\n\t(No symbol) [0x00007FF6297EFA97]\n\t(No symbol) [0x00007FF6297D5BA3]\n\t(No symbol) [0x00007FF6297AB80C]\n\t(No symbol) [0x00007FF6297AACED]\n\t(No symbol) [0x00007FF6297AB3D1]\n\tMicrosoft::Applications::Events::EventProperty::empty [0x00007FF629B2B544+879700]\n\tMicrosoft::Applications::Events::EventProperty::~EventProperty [0x00007FF6298E5D4F+56159]\n\tMicrosoft::Applications::Events::EventProperty::~EventProperty [0x00007FF6298D86E3+1267]\n\tMicrosoft::Applications::Events::EventProperty::empty [0x00007FF629B2A29D+874925]\n\tMicrosoft::Applications::Events::ILogConfiguration::operator* [0x00007FF629958501+303169]\n\tMicrosoft::Applications::Events::ILogConfiguration::operator* [0x00007FF6299548C4+287748]\n\tMicrosoft::Applications::Events::ILogConfiguration::operator* [0x00007FF6299549FB+288059]\n\tMicrosoft::Applications::Events::ILogConfiguration::operator* [0x00007FF62994C950+255120]\n\tBaseThreadInitThunk [0x00007FFC749C257D+29]\n\tRtlUserThreadStart [0x00007FFC74C0AF28+40]\n",
     "output_type": "error",
     "traceback": [
      "\u001b[1;31m---------------------------------------------------------------------------\u001b[0m",
      "\u001b[1;31mElementClickInterceptedException\u001b[0m          Traceback (most recent call last)",
      "Cell \u001b[1;32mIn[15], line 5\u001b[0m\n\u001b[0;32m      3\u001b[0m \u001b[38;5;28;01mfor\u001b[39;00m col \u001b[38;5;129;01min\u001b[39;00m game_columns:\n\u001b[0;32m      4\u001b[0m     \u001b[38;5;28;01mif\u001b[39;00m col\u001b[38;5;241m.\u001b[39mtext \u001b[38;5;241m==\u001b[39m \u001b[38;5;124m'\u001b[39m\u001b[38;5;124mResultados\u001b[39m\u001b[38;5;124m'\u001b[39m:\n\u001b[1;32m----> 5\u001b[0m         \u001b[43mcol\u001b[49m\u001b[38;5;241;43m.\u001b[39;49m\u001b[43mclick\u001b[49m\u001b[43m(\u001b[49m\u001b[43m)\u001b[49m\n\u001b[0;32m      6\u001b[0m         time\u001b[38;5;241m.\u001b[39msleep(\u001b[38;5;241m4\u001b[39m)\n\u001b[0;32m      7\u001b[0m         shadow_host3 \u001b[38;5;241m=\u001b[39m shadow_root\u001b[38;5;241m.\u001b[39mfind_element(By\u001b[38;5;241m.\u001b[39mCLASS_NAME, \u001b[38;5;124m'\u001b[39m\u001b[38;5;124mEventDetailsMarketsstyled__EventDetailsMarketsContainer-sc-qy9han-0\u001b[39m\u001b[38;5;124m'\u001b[39m)\n",
      "File \u001b[1;32mc:\\Users\\Duduedu9\\AppData\\Local\\Programs\\Python\\Python312\\Lib\\site-packages\\selenium\\webdriver\\remote\\webelement.py:94\u001b[0m, in \u001b[0;36mWebElement.click\u001b[1;34m(self)\u001b[0m\n\u001b[0;32m     92\u001b[0m \u001b[38;5;28;01mdef\u001b[39;00m \u001b[38;5;21mclick\u001b[39m(\u001b[38;5;28mself\u001b[39m) \u001b[38;5;241m-\u001b[39m\u001b[38;5;241m>\u001b[39m \u001b[38;5;28;01mNone\u001b[39;00m:\n\u001b[0;32m     93\u001b[0m \u001b[38;5;250m    \u001b[39m\u001b[38;5;124;03m\"\"\"Clicks the element.\"\"\"\u001b[39;00m\n\u001b[1;32m---> 94\u001b[0m     \u001b[38;5;28;43mself\u001b[39;49m\u001b[38;5;241;43m.\u001b[39;49m\u001b[43m_execute\u001b[49m\u001b[43m(\u001b[49m\u001b[43mCommand\u001b[49m\u001b[38;5;241;43m.\u001b[39;49m\u001b[43mCLICK_ELEMENT\u001b[49m\u001b[43m)\u001b[49m\n",
      "File \u001b[1;32mc:\\Users\\Duduedu9\\AppData\\Local\\Programs\\Python\\Python312\\Lib\\site-packages\\selenium\\webdriver\\remote\\webelement.py:395\u001b[0m, in \u001b[0;36mWebElement._execute\u001b[1;34m(self, command, params)\u001b[0m\n\u001b[0;32m    393\u001b[0m     params \u001b[38;5;241m=\u001b[39m {}\n\u001b[0;32m    394\u001b[0m params[\u001b[38;5;124m\"\u001b[39m\u001b[38;5;124mid\u001b[39m\u001b[38;5;124m\"\u001b[39m] \u001b[38;5;241m=\u001b[39m \u001b[38;5;28mself\u001b[39m\u001b[38;5;241m.\u001b[39m_id\n\u001b[1;32m--> 395\u001b[0m \u001b[38;5;28;01mreturn\u001b[39;00m \u001b[38;5;28;43mself\u001b[39;49m\u001b[38;5;241;43m.\u001b[39;49m\u001b[43m_parent\u001b[49m\u001b[38;5;241;43m.\u001b[39;49m\u001b[43mexecute\u001b[49m\u001b[43m(\u001b[49m\u001b[43mcommand\u001b[49m\u001b[43m,\u001b[49m\u001b[43m \u001b[49m\u001b[43mparams\u001b[49m\u001b[43m)\u001b[49m\n",
      "File \u001b[1;32mc:\\Users\\Duduedu9\\AppData\\Local\\Programs\\Python\\Python312\\Lib\\site-packages\\selenium\\webdriver\\remote\\webdriver.py:354\u001b[0m, in \u001b[0;36mWebDriver.execute\u001b[1;34m(self, driver_command, params)\u001b[0m\n\u001b[0;32m    352\u001b[0m response \u001b[38;5;241m=\u001b[39m \u001b[38;5;28mself\u001b[39m\u001b[38;5;241m.\u001b[39mcommand_executor\u001b[38;5;241m.\u001b[39mexecute(driver_command, params)\n\u001b[0;32m    353\u001b[0m \u001b[38;5;28;01mif\u001b[39;00m response:\n\u001b[1;32m--> 354\u001b[0m     \u001b[38;5;28;43mself\u001b[39;49m\u001b[38;5;241;43m.\u001b[39;49m\u001b[43merror_handler\u001b[49m\u001b[38;5;241;43m.\u001b[39;49m\u001b[43mcheck_response\u001b[49m\u001b[43m(\u001b[49m\u001b[43mresponse\u001b[49m\u001b[43m)\u001b[49m\n\u001b[0;32m    355\u001b[0m     response[\u001b[38;5;124m\"\u001b[39m\u001b[38;5;124mvalue\u001b[39m\u001b[38;5;124m\"\u001b[39m] \u001b[38;5;241m=\u001b[39m \u001b[38;5;28mself\u001b[39m\u001b[38;5;241m.\u001b[39m_unwrap_value(response\u001b[38;5;241m.\u001b[39mget(\u001b[38;5;124m\"\u001b[39m\u001b[38;5;124mvalue\u001b[39m\u001b[38;5;124m\"\u001b[39m, \u001b[38;5;28;01mNone\u001b[39;00m))\n\u001b[0;32m    356\u001b[0m     \u001b[38;5;28;01mreturn\u001b[39;00m response\n",
      "File \u001b[1;32mc:\\Users\\Duduedu9\\AppData\\Local\\Programs\\Python\\Python312\\Lib\\site-packages\\selenium\\webdriver\\remote\\errorhandler.py:229\u001b[0m, in \u001b[0;36mErrorHandler.check_response\u001b[1;34m(self, response)\u001b[0m\n\u001b[0;32m    227\u001b[0m         alert_text \u001b[38;5;241m=\u001b[39m value[\u001b[38;5;124m\"\u001b[39m\u001b[38;5;124malert\u001b[39m\u001b[38;5;124m\"\u001b[39m]\u001b[38;5;241m.\u001b[39mget(\u001b[38;5;124m\"\u001b[39m\u001b[38;5;124mtext\u001b[39m\u001b[38;5;124m\"\u001b[39m)\n\u001b[0;32m    228\u001b[0m     \u001b[38;5;28;01mraise\u001b[39;00m exception_class(message, screen, stacktrace, alert_text)  \u001b[38;5;66;03m# type: ignore[call-arg]  # mypy is not smart enough here\u001b[39;00m\n\u001b[1;32m--> 229\u001b[0m \u001b[38;5;28;01mraise\u001b[39;00m exception_class(message, screen, stacktrace)\n",
      "\u001b[1;31mElementClickInterceptedException\u001b[0m: Message: element click intercepted: Element <div class=\"Kironstyled__EventData-sc-jvy8h9-3 eiCTSg\">...</div> is not clickable at point (845, 498). Other element would receive the click: <span class=\"sticky-footer-item--name\">...</span>\n  (Session info: MicrosoftEdge=127.0.2651.86)\nStacktrace:\n\tGetHandleVerifier [0x00007FF6299B05C2+11762]\n\tMicrosoft::Applications::Events::ILogConfiguration::operator* [0x00007FF629950909+271433]\n\t(No symbol) [0x00007FF62976FE6E]\n\t(No symbol) [0x00007FF6297BCD43]\n\t(No symbol) [0x00007FF6297BAFF4]\n\t(No symbol) [0x00007FF6297B8D60]\n\t(No symbol) [0x00007FF6297B7DA1]\n\t(No symbol) [0x00007FF6297ACA4C]\n\t(No symbol) [0x00007FF6297D5F3A]\n\t(No symbol) [0x00007FF6297AC2FD]\n\t(No symbol) [0x00007FF6297AC1CD]\n\t(No symbol) [0x00007FF6297D6220]\n\t(No symbol) [0x00007FF6297AC2FD]\n\t(No symbol) [0x00007FF6297EFA97]\n\t(No symbol) [0x00007FF6297D5BA3]\n\t(No symbol) [0x00007FF6297AB80C]\n\t(No symbol) [0x00007FF6297AACED]\n\t(No symbol) [0x00007FF6297AB3D1]\n\tMicrosoft::Applications::Events::EventProperty::empty [0x00007FF629B2B544+879700]\n\tMicrosoft::Applications::Events::EventProperty::~EventProperty [0x00007FF6298E5D4F+56159]\n\tMicrosoft::Applications::Events::EventProperty::~EventProperty [0x00007FF6298D86E3+1267]\n\tMicrosoft::Applications::Events::EventProperty::empty [0x00007FF629B2A29D+874925]\n\tMicrosoft::Applications::Events::ILogConfiguration::operator* [0x00007FF629958501+303169]\n\tMicrosoft::Applications::Events::ILogConfiguration::operator* [0x00007FF6299548C4+287748]\n\tMicrosoft::Applications::Events::ILogConfiguration::operator* [0x00007FF6299549FB+288059]\n\tMicrosoft::Applications::Events::ILogConfiguration::operator* [0x00007FF62994C950+255120]\n\tBaseThreadInitThunk [0x00007FFC749C257D+29]\n\tRtlUserThreadStart [0x00007FFC74C0AF28+40]\n"
     ]
    }
   ],
   "source": [
    "for game in child_elements:\n",
    "    game_columns = game.find_elements(By.CLASS_NAME, 'Kironstyled__EventData-sc-jvy8h9-3')\n",
    "    for col in game_columns:\n",
    "        if col.text == 'Resultados':\n",
    "            ActionChains(driver).move_to_element(col).perform()  # Rolar até o elemento\n",
    "            col.click()\n",
    "            time.sleep(4)\n",
    "            shadow_host3 = shadow_root.find_element(By.CLASS_NAME, 'EventDetailsMarketsstyled__EventDetailsMarketsContainer-sc-qy9han-0')\n",
    "            result_games = shadow_host3.find_elements(By.XPATH, './/*')\n",
    "            for coisa in result_games:\n",
    "                if coisa.text == 'Resultado exato':\n",
    "                    print('Vou clickar na coisa')\n",
    "                    try:\n",
    "                        # coisa.click()\n",
    "                        # coisa2 = shadow_host2.find_element(By.CSS_SELECTOR, 'div:nth-child(1) > div.SportsBookRouterstyled__RoutesWrapper-sc-iwc66s-0 > main > div > div > div.Kironstyled__VirtualTableTennisContainer-sc-jvy8h9-1 > div.EventDetailsMarketsstyled__EventDetailsMarketsContainer-sc-qy9han-0.bYqefA > div:nth-child(8)')\n",
    "                        coisa2 = coisa.find_element(By.CLASS_NAME, 'EventDetailsMarketBoxstyled__EventDetailsMarketName-sc-p3o2rl-3')\n",
    "                        coisa2.click()\n",
    "                        print('Achei')\n",
    "                    except Exception as ex:\n",
    "                        raise Exception\n",
    "                # coisa.click()\n",
    "                    # print('Clickei na coisa')\n",
    "                    # print(f'Attributes: {coisa.get_attribute(\"outerHTML\")}')\n",
    "            # print(result_games)\n",
    "            # result_games_child = result_games.find_elements(By.CLASS_NAME, 'EventDetailsMarketBoxstyled__EventDetailsMarketBoxRoot-sc-p3o2rl-21 eFBoNs')\n",
    "            # for result in result_games_child:\n",
    "            #     print(f'Tag: {result.tag_name}, Text: {result.text}, Attributes: {result.get_attribute(\"outerHTML\")}')\n",
    "            print('col.text')\n",
    "    # print(f'Tag: {game.tag_name}, Text: {game.text}, Attributes: {game.get_attribute(\"outerHTML\")}')"
   ]
  },
  {
   "cell_type": "code",
   "execution_count": null,
   "metadata": {},
   "outputs": [],
   "source": [
    "# Localizar todos os elementos filhos dentro do elemento pai\n",
    "# child_elements = element.find_elements(By.XPATH, './/*')\n",
    "\n",
    "# Imprimir todas as tags dos elementos filhos\n",
    "# for child in child_elements:\n",
    "#     print(f'Tag: {child.tag_name}, Text: {child.text}, Attributes: {child.get_attribute(\"outerHTML\")}')"
   ]
  },
  {
   "cell_type": "code",
   "execution_count": 17,
   "metadata": {},
   "outputs": [],
   "source": [
    "driver.quit()"
   ]
  }
 ],
 "metadata": {
  "kernelspec": {
   "display_name": "Python 3",
   "language": "python",
   "name": "python3"
  },
  "language_info": {
   "codemirror_mode": {
    "name": "ipython",
    "version": 3
   },
   "file_extension": ".py",
   "mimetype": "text/x-python",
   "name": "python",
   "nbconvert_exporter": "python",
   "pygments_lexer": "ipython3",
   "version": "3.12.4"
  }
 },
 "nbformat": 4,
 "nbformat_minor": 2
}
